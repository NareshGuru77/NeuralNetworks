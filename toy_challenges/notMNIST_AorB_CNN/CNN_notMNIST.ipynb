{
 "cells": [
  {
   "cell_type": "code",
   "execution_count": 2,
   "metadata": {
    "collapsed": false
   },
   "outputs": [],
   "source": [
    "import numpy as np\n",
    "import os\n",
    "from PIL import Image\n",
    "import matplotlib.pyplot as plt"
   ]
  },
  {
   "cell_type": "code",
   "execution_count": 3,
   "metadata": {
    "collapsed": false
   },
   "outputs": [
    {
     "name": "stdout",
     "output_type": "stream",
     "text": [
      "Number of images of A:  1872\n",
      "Number of images of B:  1873\n",
      "Shape of A labels:  (1872, 1)\n",
      "Shape of B labels:  (1873, 1)\n"
     ]
    }
   ],
   "source": [
    "# class of A is 1 and B is 0\n",
    "# reading the file names...\n",
    "data_path = './notMNIST_small'\n",
    "image_files_A = [ os.path.join(data_path,'A', files)\n",
    "                 for files in os.listdir(os.path.join(data_path, 'A'))]\n",
    "image_files_B = [ os.path.join(data_path,'B', files)\n",
    "                 for files in os.listdir(os.path.join(data_path, 'B'))]\n",
    "# creating labels...\n",
    "labels_A = np.ones(len(image_files_A)).reshape(-1,1)\n",
    "labels_B = np.zeros(len(image_files_B)).reshape(-1,1)\n",
    "print 'Number of images of A: ',len(image_files_A)\n",
    "print 'Number of images of B: ',len(image_files_B)\n",
    "print 'Shape of A labels: ', labels_A.shape\n",
    "print 'Shape of B labels: ', labels_B.shape"
   ]
  },
  {
   "cell_type": "code",
   "execution_count": 4,
   "metadata": {
    "collapsed": false
   },
   "outputs": [
    {
     "data": {
      "image/png": "[encoded data removed]",
      "text/plain": [
       "<matplotlib.figure.Figure at 0x7fbc57cedb50>"
      ]
     },
     "metadata": {},
     "output_type": "display_data"
    }
   ],
   "source": [
    "# displaying sample images...\n",
    "img_A = Image.open(image_files_A[0])\n",
    "img_B = Image.open(image_files_B[0])\n",
    "figure = plt.figure(1)\n",
    "figure.set_figheight(2)\n",
    "figure.set_figwidth(2)\n",
    "figure.add_subplot(1,2,1)\n",
    "plt.axis('off')\n",
    "plt.imshow(img_A, cmap= 'gray')\n",
    "figure.add_subplot(1,2,2)\n",
    "plt.axis('off')\n",
    "plt.imshow(img_B, cmap= 'gray')\n",
    "plt.show()"
   ]
  },
  {
   "cell_type": "code",
   "execution_count": 14,
   "metadata": {
    "collapsed": false
   },
   "outputs": [],
   "source": [
    "# stacking images along 3rd axis for easy access...\n",
    "data_A = np.zeros((img_A.size[0], img_A.size[1]))\n",
    "data_B = np.zeros((img_B.size[0], img_B.size[1]))\n",
    "\n",
    "for f in image_files_A:\n",
    "    image = Image.open(f)\n",
    "    data_A = np.dstack((data_A, image))\n",
    "    \n",
    "for f in image_files_B:\n",
    "    image = Image.open(f)\n",
    "    data_B = np.dstack((data_B, image))\n",
    "\n",
    "data_A = data_A[:,:,:-1]\n",
    "data_B = data_B[:,:,:-1]"
   ]
  },
  {
   "cell_type": "code",
   "execution_count": 15,
   "metadata": {
    "collapsed": false
   },
   "outputs": [
    {
     "name": "stdout",
     "output_type": "stream",
     "text": [
      "(28, 28, 1872)\n",
      "(28, 28, 1873)\n"
     ]
    }
   ],
   "source": [
    "print data_A.shape\n",
    "print data_B.shape"
   ]
  },
  {
   "cell_type": "code",
   "execution_count": 20,
   "metadata": {
    "collapsed": false
   },
   "outputs": [
    {
     "name": "stdout",
     "output_type": "stream",
     "text": [
      "Shape of train and test data of A: \n",
      "(28, 28, 1497) (28, 28, 375)\n",
      "Shape of train and test labels of A: \n",
      "(1497, 1) (375, 1)\n",
      "Shape of train and test data of B: \n",
      "(28, 28, 1498) (28, 28, 375)\n",
      "Shape of train and test labels of B: \n",
      "(1498, 1) (375, 1)\n"
     ]
    }
   ],
   "source": [
    "# splitting the data into train and test sets..80 % training and 20 % test...\n",
    "train_data_A, test_data_A = np.dsplit(data_A, [data_A.shape[2]*8/10])\n",
    "train_label_A, test_label_A = np.vsplit(labels_A, [labels_A.shape[0]*8/10])\n",
    "print 'Shape of train and test data of A: '\n",
    "print train_data_A.shape, test_data_A.shape\n",
    "print 'Shape of train and test labels of A: '\n",
    "print train_label_A.shape, test_label_A.shape\n",
    "\n",
    "train_data_B, test_data_B = np.dsplit(data_B, [data_B.shape[2]*8/10])\n",
    "train_label_B, test_label_B = np.vsplit(labels_B, [labels_B.shape[0]*8/10])\n",
    "print 'Shape of train and test data of B: '\n",
    "print train_data_B.shape, test_data_B.shape\n",
    "print 'Shape of train and test labels of B: '\n",
    "print train_label_B.shape, test_label_B.shape"
   ]
  },
  {
   "cell_type": "code",
   "execution_count": 22,
   "metadata": {
    "collapsed": false
   },
   "outputs": [],
   "source": [
    "class Convolutional_Neural_Network():\n",
    "    \n",
    "    def __init__(self, learning_rate = 0.1, epochs = 1000, filter_size = 3):\n",
    "        self.learning_rate = learning_rate\n",
    "        self.epochs = epochs\n",
    "        self.filter_size = filter_size\n",
    "        self.stride = 1\n",
    "        self.padding = (self.filter_size - 1)/ 2\n",
    "        \n",
    "    def ReLU_layer(self, local_field, derivative= False):\n",
    "        if derivative == True:\n",
    "            return None\n",
    "        return np.max(0, local_field)\n",
    "    \n",
    "    def convolution_layer(self):\n",
    "        pass\n",
    "    \n",
    "    def pooling_layer(self):\n",
    "        pass\n",
    "    \n",
    "    def fully_connected_layer(self):\n",
    "        pass\n",
    "    \n",
    "    def softmax_layer(self):\n",
    "        pass\n",
    "    \n",
    "    def train(self):\n",
    "        pass\n",
    "    \n",
    "    def predict(self):\n",
    "        pass\n",
    "    \n",
    "    def save_trained_weights(self):\n",
    "        pass\n",
    "    \n",
    "    def load_trained_weights(self):\n",
    "        pass"
   ]
  },
  {
   "cell_type": "code",
   "execution_count": null,
   "metadata": {
    "collapsed": true
   },
   "outputs": [],
   "source": []
  }
 ],
 "metadata": {
  "kernelspec": {
   "display_name": "Python 2",
   "language": "python",
   "name": "python2"
  },
  "language_info": {
   "codemirror_mode": {
    "name": "ipython",
    "version": 2
   },
   "file_extension": ".py",
   "mimetype": "text/x-python",
   "name": "python",
   "nbconvert_exporter": "python",
   "pygments_lexer": "ipython2",
   "version": "2.7.13"
  }
 },
 "nbformat": 4,
 "nbformat_minor": 2
}
